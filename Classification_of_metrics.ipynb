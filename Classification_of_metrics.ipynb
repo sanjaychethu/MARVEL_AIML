{
  "nbformat": 4,
  "nbformat_minor": 0,
  "metadata": {
    "colab": {
      "provenance": []
    },
    "kernelspec": {
      "name": "python3",
      "display_name": "Python 3"
    },
    "language_info": {
      "name": "python"
    }
  },
  "cells": [
    {
      "cell_type": "code",
      "source": [
        "from sklearn.datasets import load_breast_cancer\n",
        "from sklearn.ensemble import RandomForestClassifier\n",
        "from sklearn.model_selection import train_test_split\n",
        "from sklearn.metrics import accuracy_score, precision_score, recall_score, f1_score, roc_auc_score\n",
        "import pandas as pd\n",
        "\n",
        "# Load the breast cancer dataset\n",
        "data = load_breast_cancer()\n",
        "# Develop predictors X and target y dataframes\n",
        "X = pd.DataFrame(data['data'], columns=data['feature_names'])\n",
        "y = pd.Series(data['target'])\n",
        "y = abs(y - 1)  # Invert labels for demonstration purposes\n",
        "# Split data into train and test set in 80:20 ratio\n",
        "X_train, X_test, y_train, y_test = train_test_split(X, y, test_size=0.2, random_state=1)\n",
        "\n",
        "# Build a RF model with default parameters\n",
        "model = RandomForestClassifier(random_state=1)\n",
        "model.fit(X_train, y_train)\n",
        "preds = model.predict(X_test)\n",
        "\n",
        "# Calculate different evaluation metrics\n",
        "accuracy = accuracy_score(y_test, preds)\n",
        "precision = precision_score(y_test, preds)\n",
        "recall = recall_score(y_test, preds)\n",
        "f1 = f1_score(y_test, preds)\n",
        "roc_auc = roc_auc_score(y_test, preds)\n",
        "\n",
        "print(\"Accuracy:\", accuracy)\n",
        "print(\"Precision:\", precision)\n",
        "print(\"Recall:\", recall)\n",
        "print(\"F1 Score:\", f1)\n",
        "print(\"ROC AUC Score:\", roc_auc)\n"
      ],
      "metadata": {
        "colab": {
          "base_uri": "https://localhost:8080/"
        },
        "id": "cxdRWNDReCo0",
        "outputId": "493b5e59-a466-4d73-e317-f383982ed7d6"
      },
      "execution_count": 7,
      "outputs": [
        {
          "output_type": "stream",
          "name": "stdout",
          "text": [
            "Accuracy: 0.956140350877193\n",
            "Precision: 1.0\n",
            "Recall: 0.8809523809523809\n",
            "F1 Score: 0.9367088607594937\n",
            "ROC AUC Score: 0.9404761904761905\n"
          ]
        }
      ]
    },
    {
      "cell_type": "markdown",
      "source": [
        "Confusion Metrix"
      ],
      "metadata": {
        "id": "aP3KKBRgeiD1"
      }
    },
    {
      "cell_type": "code",
      "source": [
        "\n",
        "confusion_matrix = metrics.confusion_matrix(y_test, preds)\n",
        "print(confusion_matrix)"
      ],
      "metadata": {
        "colab": {
          "base_uri": "https://localhost:8080/"
        },
        "id": "J7gDeKNxeInD",
        "outputId": "eea60e4f-c25e-4365-d68b-dae7b215f813"
      },
      "execution_count": 8,
      "outputs": [
        {
          "output_type": "stream",
          "name": "stdout",
          "text": [
            "[[72  0]\n",
            " [ 5 37]]\n"
          ]
        }
      ]
    },
    {
      "cell_type": "code",
      "source": [
        "\n",
        "confusion = metrics.confusion_matrix(y_test, preds)\n",
        "confusion.ravel()"
      ],
      "metadata": {
        "colab": {
          "base_uri": "https://localhost:8080/"
        },
        "id": "Jbu8exGqeL67",
        "outputId": "2ccf54ab-b174-4c32-dae4-99d51d8dc4e0"
      },
      "execution_count": 9,
      "outputs": [
        {
          "output_type": "execute_result",
          "data": {
            "text/plain": [
              "array([72,  0,  5, 37])"
            ]
          },
          "metadata": {},
          "execution_count": 9
        }
      ]
    },
    {
      "cell_type": "markdown",
      "source": [
        "**Precision**"
      ],
      "metadata": {
        "id": "qK2m3RWtesom"
      }
    },
    {
      "cell_type": "code",
      "source": [
        "\n",
        "precision_positive = metrics.precision_score(y_test, preds, pos_label=1)\n",
        "precision_negative = metrics.precision_score(y_test, preds, pos_label=0)\n",
        "precision_positive, precision_negative"
      ],
      "metadata": {
        "colab": {
          "base_uri": "https://localhost:8080/"
        },
        "id": "-eL09bC2ePQ8",
        "outputId": "3f131a0e-9019-4d1f-f3cd-09b54d4739b2"
      },
      "execution_count": 10,
      "outputs": [
        {
          "output_type": "execute_result",
          "data": {
            "text/plain": [
              "(1.0, 0.935064935064935)"
            ]
          },
          "metadata": {},
          "execution_count": 10
        }
      ]
    },
    {
      "cell_type": "markdown",
      "source": [
        "**Accuracy**"
      ],
      "metadata": {
        "id": "wos4HN2VexLe"
      }
    },
    {
      "cell_type": "code",
      "source": [
        "\n",
        "accuracy = metrics.accuracy_score(y_test, preds)\n",
        "accuracy"
      ],
      "metadata": {
        "colab": {
          "base_uri": "https://localhost:8080/"
        },
        "id": "SYcgpaE_eSuU",
        "outputId": "b9d22de1-3dda-4c07-ea51-869337d81fcb"
      },
      "execution_count": 11,
      "outputs": [
        {
          "output_type": "execute_result",
          "data": {
            "text/plain": [
              "0.956140350877193"
            ]
          },
          "metadata": {},
          "execution_count": 11
        }
      ]
    },
    {
      "cell_type": "markdown",
      "source": [
        "**Recall**"
      ],
      "metadata": {
        "id": "8O6SUzkrezTf"
      }
    },
    {
      "cell_type": "code",
      "source": [
        "recall_sensitivity = metrics.recall_score(y_test, preds, pos_label=1)\n",
        "recall_specificity = metrics.recall_score(y_test, preds, pos_label=0)\n",
        "recall_sensitivity, recall_specificity"
      ],
      "metadata": {
        "colab": {
          "base_uri": "https://localhost:8080/"
        },
        "id": "HfZSuOMOeVVV",
        "outputId": "1d85b7fd-b679-48dd-8da2-be6afd05a687"
      },
      "execution_count": 12,
      "outputs": [
        {
          "output_type": "execute_result",
          "data": {
            "text/plain": [
              "(0.8809523809523809, 1.0)"
            ]
          },
          "metadata": {},
          "execution_count": 12
        }
      ]
    },
    {
      "cell_type": "markdown",
      "source": [
        "**F1 Score**"
      ],
      "metadata": {
        "id": "NnMXvehMe4o_"
      }
    },
    {
      "cell_type": "code",
      "source": [
        "f1_positive = metrics.f1_score(y_test, preds, pos_label=1)\n",
        "f1_negative = metrics.f1_score(y_test, preds, pos_label=0)\n",
        "f1_positive, f1_negative"
      ],
      "metadata": {
        "colab": {
          "base_uri": "https://localhost:8080/"
        },
        "id": "Kr8wxfLDeY5V",
        "outputId": "15938ed7-d4ef-4f37-9d77-0a0dd51fdda6"
      },
      "execution_count": 13,
      "outputs": [
        {
          "output_type": "execute_result",
          "data": {
            "text/plain": [
              "(0.9367088607594937, 0.9664429530201343)"
            ]
          },
          "metadata": {},
          "execution_count": 13
        }
      ]
    },
    {
      "cell_type": "code",
      "source": [
        "print(metrics.classification_report(y_test, preds))"
      ],
      "metadata": {
        "colab": {
          "base_uri": "https://localhost:8080/"
        },
        "id": "aRjSDr_BedRN",
        "outputId": "b569e038-7165-4b83-858c-1645c73c1836"
      },
      "execution_count": 14,
      "outputs": [
        {
          "output_type": "stream",
          "name": "stdout",
          "text": [
            "              precision    recall  f1-score   support\n",
            "\n",
            "           0       0.94      1.00      0.97        72\n",
            "           1       1.00      0.88      0.94        42\n",
            "\n",
            "    accuracy                           0.96       114\n",
            "   macro avg       0.97      0.94      0.95       114\n",
            "weighted avg       0.96      0.96      0.96       114\n",
            "\n"
          ]
        }
      ]
    }
  ]
}