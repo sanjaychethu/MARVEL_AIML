{
  "nbformat": 4,
  "nbformat_minor": 0,
  "metadata": {
    "colab": {
      "provenance": []
    },
    "kernelspec": {
      "name": "python3",
      "display_name": "Python 3"
    },
    "language_info": {
      "name": "python"
    }
  },
  "cells": [
    {
      "cell_type": "code",
      "source": [
        "from sklearn.datasets import load_diabetes\n",
        "from sklearn.ensemble import RandomForestRegressor\n",
        "from sklearn.model_selection import train_test_split\n",
        "from sklearn.metrics import mean_squared_error, mean_absolute_error, r2_score\n",
        "import pandas as pd\n",
        "\n",
        "# Load the diabetes dataset\n",
        "data = load_diabetes()\n",
        "# Develop predictors X and target y dataframes\n",
        "X = pd.DataFrame(data['data'], columns=[f'feature_{i}' for i in range(data['data'].shape[1])])\n",
        "y = pd.Series(data['target'])\n",
        "# Split data into train and test set in 80:20 ratio\n",
        "X_train, X_test, y_train, y_test = train_test_split(X, y, test_size=0.2, random_state=1)\n",
        "\n",
        "# Build a Random Forest regression model with default parameters\n",
        "model = RandomForestRegressor(random_state=1)\n",
        "model.fit(X_train, y_train)\n",
        "preds = model.predict(X_test)\n",
        "\n",
        "# Calculate different regression evaluation metrics\n",
        "mse = mean_squared_error(y_test, preds)\n",
        "mae = mean_absolute_error(y_test, preds)\n",
        "r2 = r2_score(y_test, preds)\n",
        "\n",
        "print(\"Mean Squared Error:\", mse)\n",
        "print(\"Mean Absolute Error:\", mae)\n",
        "print(\"R^2 Score:\", r2)\n"
      ],
      "metadata": {
        "colab": {
          "base_uri": "https://localhost:8080/"
        },
        "id": "F7qTImI-hZ21",
        "outputId": "a9b0b282-95b8-4377-8c8d-5fd06f563b64"
      },
      "execution_count": 4,
      "outputs": [
        {
          "output_type": "stream",
          "name": "stdout",
          "text": [
            "Mean Squared Error: 3805.9517483146074\n",
            "Mean Absolute Error: 47.29280898876405\n",
            "R^2 Score: 0.28579978660424454\n"
          ]
        }
      ]
    }
  ]
}