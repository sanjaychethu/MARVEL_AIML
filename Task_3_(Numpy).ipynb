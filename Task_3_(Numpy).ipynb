{
  "nbformat": 4,
  "nbformat_minor": 0,
  "metadata": {
    "colab": {
      "provenance": []
    },
    "kernelspec": {
      "name": "python3",
      "display_name": "Python 3"
    },
    "language_info": {
      "name": "python"
    }
  },
  "cells": [
    {
      "cell_type": "code",
      "execution_count": null,
      "metadata": {
        "colab": {
          "base_uri": "https://localhost:8080/"
        },
        "id": "dtltMdGRho2q",
        "outputId": "e446eba5-7c9f-4bd3-a474-7dd03602547d"
      },
      "outputs": [
        {
          "output_type": "stream",
          "name": "stdout",
          "text": [
            "Repeated Array:\n",
            "[[3 6 3 6]\n",
            " [7 9 7 9]\n",
            " [3 6 3 6]\n",
            " [7 9 7 9]\n",
            " [3 6 3 6]\n",
            " [7 9 7 9]]\n"
          ]
        }
      ],
      "source": [
        "import numpy as np\n",
        "\n",
        "#Small Array\n",
        "\n",
        "small_array=np.array([[3,6],[7,9]])\n",
        "\n",
        "#Repeat across each dimensions\n",
        "\n",
        "repeated_array = np.tile(small_array, (3, 2))\n",
        "\n",
        "print(\"Repeated Array:\")\n",
        "print(repeated_array)"
      ]
    },
    {
      "cell_type": "code",
      "source": [
        "# Define the shape of the array\n",
        "array_shape = (3, 7)\n",
        "\n",
        "# Generate the array with element indexes in ascending order\n",
        "ascending_array = np.arange(np.prod(array_shape)).reshape(array_shape)\n",
        "\n",
        "print(\"Ascending Array:\")\n",
        "print(ascending_array)\n"
      ],
      "metadata": {
        "colab": {
          "base_uri": "https://localhost:8080/"
        },
        "id": "ztd00ZLsjEg7",
        "outputId": "759dd611-4510-4790-efb5-807205ea1052"
      },
      "execution_count": null,
      "outputs": [
        {
          "output_type": "stream",
          "name": "stdout",
          "text": [
            "Ascending Array:\n",
            "[[ 0  1  2  3  4  5  6]\n",
            " [ 7  8  9 10 11 12 13]\n",
            " [14 15 16 17 18 19 20]]\n"
          ]
        }
      ]
    },
    {
      "cell_type": "code",
      "source": [],
      "metadata": {
        "id": "o6qWB9gqjSuE"
      },
      "execution_count": null,
      "outputs": []
    }
  ]
}